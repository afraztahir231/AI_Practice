{
  "cells": [
    {
      "cell_type": "markdown",
      "metadata": {
        "id": "nd0zaIRTM7lA"
      },
      "source": [
        "# **Generative Adverserial Networks**\n",
        "\n",
        "\n",
        "Generative adversarial networks (GANs) are algorithmic architectures that use two neural networks, pitting one against the other (thus the “adversarial”) in order to generate new, synthetic instances of data that can pass for real data. They are used widely in image generation, video generation and voice generation.\n",
        "\n",
        "\n",
        "![Generative-Adversarial-Networks-Framework.png](attachment:Generative-Adversarial-Networks-Framework.png)\n",
        "\n",
        "\n",
        "\n",
        "While most deep generative models are trained by maximizing log likelihood or a lower bound on log likelihood, GANs take a radically different approach that does not require inference or explicit calculation of the data likelihood. Instead, two models are used to solve a minimax game: a generator which samples data, and a discriminator which classifies the data as real or generated.In theory these models are capable of modeling an arbitrarily complex probability distribution.\n",
        "\n",
        "\n",
        "\n",
        "\n",
        "\n",
        "\n"
      ]
    },
    {
      "cell_type": "markdown",
      "metadata": {
        "id": "xuOLuoQGM7lJ"
      },
      "source": [
        "![](http://)"
      ]
    },
    {
      "cell_type": "markdown",
      "metadata": {
        "id": "8wHKxxboM7lJ"
      },
      "source": [
        "# **Objective**\n",
        "\n",
        "The objective of this notebook is to introduce beginners to the underlying concept of Generative Adversarial Networks (GANs) in the most intuitive way possible. The aim is to describe the working of such network without delving deep into the complex mathematics associated and in a more practical way such that the viewer can develop his own simple GAN. \n",
        "\n",
        "A simple GAN is first constructed here with only hidden dense layers and tries to output meaningful images. The output is analysed discovering one particular issue which is commonplace in simple GANs. The issue is resolved in the next part with one particular type of GAN called Deep Convolution Generative Adversarial Networks (DCGANs) ."
      ]
    },
    {
      "cell_type": "markdown",
      "metadata": {
        "id": "Hd_m57Z6M7lK"
      },
      "source": [
        "# **Introduction**\n",
        "\n",
        "\n",
        "GANs are made up of two components - \n",
        "\n",
        "1. **Generator - generates new data instances**\n",
        "\n",
        "2. **Discriminator - tries to distinguish the generated or fake data from the real dataset.**\n",
        "\n",
        "Discriminative algorithms try to classify input data; that is, given the features of an instance of data, they predict a label or category to which that data belongs. So discriminative algorithms map features to labels. They are concerned solely with that correlation.One the other way,loosely speaking,generative algorithms do the opposite. Instead of predicting a label given certain features, they attempt to predict features given a certain label.\n",
        "\n",
        "While training they both start together from scratch and the generator learn to shape the random distribition through the training epochs."
      ]
    },
    {
      "cell_type": "markdown",
      "metadata": {
        "id": "02n8t-8EM7lK"
      },
      "source": [
        "# **Working Principle**\n",
        "\n",
        "**Generative** network is fed noise may be in the form a random distribution and generates fake data from the noise. The fake data from the generator is input to the discriminator. Once the training is complete, the generator should be able to generate real like data from the noises.\n",
        "\n",
        "The interesting fact here is that the generator learns to produce meaningful images without even actually looking at the image.\n",
        "\n",
        "![1_CkMMefLPqcEKPuuPLZY2_Agg.png](attachment:1_CkMMefLPqcEKPuuPLZY2_Agg.png)\n",
        "\n",
        "**Discriminator** or the adversarial network works as the opponent to the generator. It is basically a  classifier or discriminator whose function is to distinguish between two different classes of data. Here the classes are real data (labelled as 1) and the fake data the generator produces (labelled as 0).\n",
        "\n"
      ]
    },
    {
      "cell_type": "markdown",
      "metadata": {
        "id": "4I1kEOX8M7lK"
      },
      "source": [
        "# **Training the network**\n",
        "\n",
        "The important thing about training a GAN is that the two components should never be trained together. Rather the network is trained in two different phases,the first phase is for training the discriminator and updating the weights appropriately and in the next step the generator is trained while the discriminator training is disabled.\n",
        "\n",
        "**Phase 1**\n",
        "During phase one of training the generator is fed random data(in the form of a distribution) as noise. The generator creates some random images which are given to the discriminator. The discriminator also takes input from dataset of real images. \n",
        "The discriminator learns to distinguish the real data from the fake ones by learning or assessing features from it's inputs. The discriminator outputs some probability and difference between the predicted results and the actual results are backpropagated through the network and the weights of the discriminator is updated. \n",
        "Remember during this phase, the backpropagation stops at the end of the discriminator and the generator is not trained or updated.\n",
        "\n",
        "\n",
        "**Phase 2**\n",
        "In this phase, the generator produced batch of images are directly given as input to the discriminator. The real images are not given this time to the discriminator. The generator learns by tricking the discriminator into it outputting false positives. The discriminator outputs probabilities which are assessed against the actual results and the weights of of the generator are updated through backpropagation.\n",
        "Remember here during backpropagation, the discriminator weights should not be updated and kept as they were before.\n",
        "\n",
        "![Train1_t82vgL9KcDVpT4JqCb9Q4Q.png](attachment:Train1_t82vgL9KcDVpT4JqCb9Q4Q.png)"
      ]
    },
    {
      "cell_type": "markdown",
      "metadata": {
        "id": "ovD-XWWUM7lL"
      },
      "source": [
        "**LOSS FUNCTION of simple GAN**\n",
        "\n",
        "In the paper that introduced GANs(link below in the reference), the generator tries to minimize the following function while the discriminator tries to maximize it:\n",
        "\n",
        "![loss.png](attachment:loss.png)\n",
        "In this function:\n",
        "\n",
        "* D(x) is the discriminator's estimate of the probability that real data instance x is real.\n",
        "* Ex is the expected value over all real data instances.\n",
        "* G(z) is the generator's output when given noise z.\n",
        "* D(G(z)) is the discriminator's estimate of the probability that a fake instance is real.\n",
        "* Ez is the expected value over all random inputs to the generator (in effect, the expected value over all generated fake instances G(z)).\n",
        "\n",
        "\n",
        "The generator can't directly affect the log(D(x)) term in the function, so, for the generator, minimizing the loss is equivalent to minimizing log(1 - D(G(z)))."
      ]
    },
    {
      "cell_type": "markdown",
      "metadata": {
        "id": "9BE8oT9oM7lL"
      },
      "source": [
        "**Applications of GANs**\n",
        "\n",
        "* Generate Examples for Image Datasets\n",
        "* Generate Photographs of Human Faces\n",
        "* Generate Realistic Photographs\n",
        "* Image-to-Image Translation\n",
        "* Text-to-Image Translation\n",
        "* Semantic-Image-to-Photo Translation\n",
        "* Photos to Emojis\n",
        "* Face Aging\n",
        "* Super Resolution\n",
        "* 3D Object Generation\n",
        "\n",
        "\n",
        "![sr.jpg](attachment:sr.jpg)"
      ]
    },
    {
      "cell_type": "markdown",
      "metadata": {
        "id": "b3dQNpllM7lL"
      },
      "source": [
        "# **Problems with simple GANs**\n",
        "\n",
        "In practice, however, GANs suffer from many issues, particularly during training. One common\n",
        "failure mode involves the generator collapsing to produce only a single sample or a small family of\n",
        "very similar samples. In this case, the generator learns to trick the discriminator with a single image or a few images to believe as real image. Another involves the generator and discriminator oscillating during training,rather than converging to a fixed point. In addition, if one agent becomes much more powerful than the other, the learning signal to the other agent becomes useless, and the system does not learn.\n",
        "To train GANs many tricks must be employed,one such method is using Deep Convolution Generative Adversarial Networks as discussed in a research paper published in 2016 (link in the references).\n",
        "\n",
        "\n"
      ]
    },
    {
      "cell_type": "markdown",
      "metadata": {
        "id": "cwuz7K41M7lL"
      },
      "source": [
        "# **Let's begin**"
      ]
    },
    {
      "cell_type": "code",
      "execution_count": 1,
      "metadata": {
        "id": "Rknn_Cd-ONU3"
      },
      "outputs": [],
      "source": [
        "#from google.colab import drive\n",
        "#drive.mount('/content/gdrive')"
      ]
    },
    {
      "cell_type": "code",
      "execution_count": 2,
      "metadata": {
        "_cell_guid": "b1076dfc-b9ad-4769-8c92-a6c4dae69d19",
        "_uuid": "8f2839f25d086af736a60e9eeb907d3b93b6e0e5",
        "id": "OLAcC6puM7lM"
      },
      "outputs": [],
      "source": [
        "import numpy as np # linear algebra\n",
        "import pandas as pd # data processing, CSV file I/O (e.g. pd.read_csv)\n",
        "\n",
        "# Input data files are available in the \"../input/\" directory.\n",
        "# For example, running this (by clicking run or pressing Shift+Enter) will list all files under the input directory\n",
        "\n",
        "#import os\n",
        "#for dirname, _, filenames in os.walk('/content/gdrive/MyDrive/AI341_Lab/GANs'):\n",
        "#    for filename in filenames:\n",
        "#        print(os.path.join(dirname, filename))\n",
        "\n",
        "# Any results you write to the current directory are saved as output."
      ]
    },
    {
      "cell_type": "markdown",
      "metadata": {
        "id": "igAvCfEJM7lN"
      },
      "source": [
        "**Importing useful packages**"
      ]
    },
    {
      "cell_type": "code",
      "execution_count": 4,
      "metadata": {
        "id": "Yb6q9fEJM7lN"
      },
      "outputs": [
        {
          "ename": "ModuleNotFoundError",
          "evalue": "No module named 'tensorflow'",
          "output_type": "error",
          "traceback": [
            "\u001b[0;31m---------------------------------------------------------------------------\u001b[0m",
            "\u001b[0;31mModuleNotFoundError\u001b[0m                       Traceback (most recent call last)",
            "\u001b[1;32m/home/afraz/Desktop/Practice/GANs.ipynb Cell 14\u001b[0m line \u001b[0;36m2\n\u001b[1;32m      <a href='vscode-notebook-cell:/home/afraz/Desktop/Practice/GANs.ipynb#X16sZmlsZQ%3D%3D?line=0'>1</a>\u001b[0m \u001b[39mimport\u001b[39;00m \u001b[39mmatplotlib\u001b[39;00m\u001b[39m.\u001b[39;00m\u001b[39mpyplot\u001b[39;00m \u001b[39mas\u001b[39;00m \u001b[39mplt\u001b[39;00m\n\u001b[0;32m----> <a href='vscode-notebook-cell:/home/afraz/Desktop/Practice/GANs.ipynb#X16sZmlsZQ%3D%3D?line=1'>2</a>\u001b[0m \u001b[39mfrom\u001b[39;00m \u001b[39mkeras\u001b[39;00m \u001b[39mimport\u001b[39;00m preprocessing\n\u001b[1;32m      <a href='vscode-notebook-cell:/home/afraz/Desktop/Practice/GANs.ipynb#X16sZmlsZQ%3D%3D?line=2'>3</a>\u001b[0m \u001b[39mfrom\u001b[39;00m \u001b[39mkeras\u001b[39;00m\u001b[39m.\u001b[39;00m\u001b[39mmodels\u001b[39;00m \u001b[39mimport\u001b[39;00m Sequential\n\u001b[1;32m      <a href='vscode-notebook-cell:/home/afraz/Desktop/Practice/GANs.ipynb#X16sZmlsZQ%3D%3D?line=3'>4</a>\u001b[0m \u001b[39mfrom\u001b[39;00m \u001b[39mkeras\u001b[39;00m\u001b[39m.\u001b[39;00m\u001b[39mlayers\u001b[39;00m \u001b[39mimport\u001b[39;00m Conv2D,Dropout,Dense,Flatten,Conv2DTranspose,BatchNormalization,LeakyReLU,Reshape\n",
            "File \u001b[0;32m~/Desktop/Practice/env/lib/python3.10/site-packages/keras/__init__.py:3\u001b[0m\n\u001b[1;32m      1\u001b[0m \u001b[39m\"\"\"AUTOGENERATED. DO NOT EDIT.\"\"\"\u001b[39;00m\n\u001b[0;32m----> 3\u001b[0m \u001b[39mfrom\u001b[39;00m \u001b[39mkeras\u001b[39;00m \u001b[39mimport\u001b[39;00m __internal__\n\u001b[1;32m      4\u001b[0m \u001b[39mfrom\u001b[39;00m \u001b[39mkeras\u001b[39;00m \u001b[39mimport\u001b[39;00m activations\n\u001b[1;32m      5\u001b[0m \u001b[39mfrom\u001b[39;00m \u001b[39mkeras\u001b[39;00m \u001b[39mimport\u001b[39;00m applications\n",
            "File \u001b[0;32m~/Desktop/Practice/env/lib/python3.10/site-packages/keras/__internal__/__init__.py:3\u001b[0m\n\u001b[1;32m      1\u001b[0m \u001b[39m\"\"\"AUTOGENERATED. DO NOT EDIT.\"\"\"\u001b[39;00m\n\u001b[0;32m----> 3\u001b[0m \u001b[39mfrom\u001b[39;00m \u001b[39mkeras\u001b[39;00m\u001b[39m.\u001b[39;00m\u001b[39m__internal__\u001b[39;00m \u001b[39mimport\u001b[39;00m backend\n\u001b[1;32m      4\u001b[0m \u001b[39mfrom\u001b[39;00m \u001b[39mkeras\u001b[39;00m\u001b[39m.\u001b[39;00m\u001b[39m__internal__\u001b[39;00m \u001b[39mimport\u001b[39;00m layers\n\u001b[1;32m      5\u001b[0m \u001b[39mfrom\u001b[39;00m \u001b[39mkeras\u001b[39;00m\u001b[39m.\u001b[39;00m\u001b[39m__internal__\u001b[39;00m \u001b[39mimport\u001b[39;00m losses\n",
            "File \u001b[0;32m~/Desktop/Practice/env/lib/python3.10/site-packages/keras/__internal__/backend/__init__.py:3\u001b[0m\n\u001b[1;32m      1\u001b[0m \u001b[39m\"\"\"AUTOGENERATED. DO NOT EDIT.\"\"\"\u001b[39;00m\n\u001b[0;32m----> 3\u001b[0m \u001b[39mfrom\u001b[39;00m \u001b[39mkeras\u001b[39;00m\u001b[39m.\u001b[39;00m\u001b[39msrc\u001b[39;00m\u001b[39m.\u001b[39;00m\u001b[39mbackend\u001b[39;00m \u001b[39mimport\u001b[39;00m _initialize_variables \u001b[39mas\u001b[39;00m initialize_variables\n\u001b[1;32m      4\u001b[0m \u001b[39mfrom\u001b[39;00m \u001b[39mkeras\u001b[39;00m\u001b[39m.\u001b[39;00m\u001b[39msrc\u001b[39;00m\u001b[39m.\u001b[39;00m\u001b[39mbackend\u001b[39;00m \u001b[39mimport\u001b[39;00m track_variable\n",
            "File \u001b[0;32m~/Desktop/Practice/env/lib/python3.10/site-packages/keras/src/__init__.py:21\u001b[0m\n\u001b[1;32m     15\u001b[0m \u001b[39m\"\"\"Implementation of the Keras API, the high-level API of TensorFlow.\u001b[39;00m\n\u001b[1;32m     16\u001b[0m \n\u001b[1;32m     17\u001b[0m \u001b[39mDetailed documentation and user guides are available at\u001b[39;00m\n\u001b[1;32m     18\u001b[0m \u001b[39m[keras.io](https://keras.io).\u001b[39;00m\n\u001b[1;32m     19\u001b[0m \u001b[39m\"\"\"\u001b[39;00m\n\u001b[1;32m     20\u001b[0m \u001b[39mfrom\u001b[39;00m \u001b[39mkeras\u001b[39;00m\u001b[39m.\u001b[39;00m\u001b[39msrc\u001b[39;00m \u001b[39mimport\u001b[39;00m distribute\n\u001b[0;32m---> 21\u001b[0m \u001b[39mfrom\u001b[39;00m \u001b[39mkeras\u001b[39;00m\u001b[39m.\u001b[39;00m\u001b[39msrc\u001b[39;00m \u001b[39mimport\u001b[39;00m models\n\u001b[1;32m     22\u001b[0m \u001b[39mfrom\u001b[39;00m \u001b[39mkeras\u001b[39;00m\u001b[39m.\u001b[39;00m\u001b[39msrc\u001b[39;00m\u001b[39m.\u001b[39;00m\u001b[39mengine\u001b[39;00m\u001b[39m.\u001b[39;00m\u001b[39minput_layer\u001b[39;00m \u001b[39mimport\u001b[39;00m Input\n\u001b[1;32m     23\u001b[0m \u001b[39mfrom\u001b[39;00m \u001b[39mkeras\u001b[39;00m\u001b[39m.\u001b[39;00m\u001b[39msrc\u001b[39;00m\u001b[39m.\u001b[39;00m\u001b[39mengine\u001b[39;00m\u001b[39m.\u001b[39;00m\u001b[39msequential\u001b[39;00m \u001b[39mimport\u001b[39;00m Sequential\n",
            "File \u001b[0;32m~/Desktop/Practice/env/lib/python3.10/site-packages/keras/src/models/__init__.py:18\u001b[0m\n\u001b[1;32m      1\u001b[0m \u001b[39m# Copyright 2022 The TensorFlow Authors. All Rights Reserved.\u001b[39;00m\n\u001b[1;32m      2\u001b[0m \u001b[39m#\u001b[39;00m\n\u001b[1;32m      3\u001b[0m \u001b[39m# Licensed under the Apache License, Version 2.0 (the \"License\");\u001b[39;00m\n\u001b[0;32m   (...)\u001b[0m\n\u001b[1;32m     13\u001b[0m \u001b[39m# limitations under the License.\u001b[39;00m\n\u001b[1;32m     14\u001b[0m \u001b[39m# ==============================================================================\u001b[39;00m\n\u001b[1;32m     15\u001b[0m \u001b[39m\"\"\"Keras models API.\"\"\"\u001b[39;00m\n\u001b[0;32m---> 18\u001b[0m \u001b[39mfrom\u001b[39;00m \u001b[39mkeras\u001b[39;00m\u001b[39m.\u001b[39;00m\u001b[39msrc\u001b[39;00m\u001b[39m.\u001b[39;00m\u001b[39mengine\u001b[39;00m\u001b[39m.\u001b[39;00m\u001b[39mfunctional\u001b[39;00m \u001b[39mimport\u001b[39;00m Functional\n\u001b[1;32m     19\u001b[0m \u001b[39mfrom\u001b[39;00m \u001b[39mkeras\u001b[39;00m\u001b[39m.\u001b[39;00m\u001b[39msrc\u001b[39;00m\u001b[39m.\u001b[39;00m\u001b[39mengine\u001b[39;00m\u001b[39m.\u001b[39;00m\u001b[39msequential\u001b[39;00m \u001b[39mimport\u001b[39;00m Sequential\n\u001b[1;32m     20\u001b[0m \u001b[39mfrom\u001b[39;00m \u001b[39mkeras\u001b[39;00m\u001b[39m.\u001b[39;00m\u001b[39msrc\u001b[39;00m\u001b[39m.\u001b[39;00m\u001b[39mengine\u001b[39;00m\u001b[39m.\u001b[39;00m\u001b[39mtraining\u001b[39;00m \u001b[39mimport\u001b[39;00m Model\n",
            "File \u001b[0;32m~/Desktop/Practice/env/lib/python3.10/site-packages/keras/src/engine/functional.py:23\u001b[0m\n\u001b[1;32m     20\u001b[0m \u001b[39mimport\u001b[39;00m \u001b[39mitertools\u001b[39;00m\n\u001b[1;32m     21\u001b[0m \u001b[39mimport\u001b[39;00m \u001b[39mwarnings\u001b[39;00m\n\u001b[0;32m---> 23\u001b[0m \u001b[39mimport\u001b[39;00m \u001b[39mtensorflow\u001b[39;00m\u001b[39m.\u001b[39;00m\u001b[39mcompat\u001b[39;00m\u001b[39m.\u001b[39;00m\u001b[39mv2\u001b[39;00m \u001b[39mas\u001b[39;00m \u001b[39mtf\u001b[39;00m\n\u001b[1;32m     25\u001b[0m \u001b[39mfrom\u001b[39;00m \u001b[39mkeras\u001b[39;00m\u001b[39m.\u001b[39;00m\u001b[39msrc\u001b[39;00m \u001b[39mimport\u001b[39;00m backend\n\u001b[1;32m     26\u001b[0m \u001b[39mfrom\u001b[39;00m \u001b[39mkeras\u001b[39;00m\u001b[39m.\u001b[39;00m\u001b[39msrc\u001b[39;00m\u001b[39m.\u001b[39;00m\u001b[39mdtensor\u001b[39;00m \u001b[39mimport\u001b[39;00m layout_map \u001b[39mas\u001b[39;00m layout_map_lib\n",
            "\u001b[0;31mModuleNotFoundError\u001b[0m: No module named 'tensorflow'"
          ]
        }
      ],
      "source": [
        "import matplotlib.pyplot as plt\n",
        "from keras import preprocessing\n",
        "from keras.models import Sequential\n",
        "from keras.layers import Conv2D,Dropout,Dense,Flatten,Conv2DTranspose,BatchNormalization,LeakyReLU,Reshape\n",
        "import tensorflow as tf"
      ]
    },
    {
      "cell_type": "markdown",
      "metadata": {
        "id": "vyjzqeRCM7lN"
      },
      "source": [
        "# **Loading and Preprocessing the data**"
      ]
    },
    {
      "cell_type": "code",
      "execution_count": null,
      "metadata": {
        "id": "pOeV0rqHOvqm"
      },
      "outputs": [],
      "source": [
        "#!unzip -q \"/content/gdrive/MyDrive/AI341_Lab/GANs/fashion-mnist_train.csv.zip\" -d \"/content/gdrive/MyDrive/AI341_Lab/GANs\""
      ]
    },
    {
      "cell_type": "code",
      "execution_count": null,
      "metadata": {
        "id": "Tl_DvxK2PPak"
      },
      "outputs": [],
      "source": [
        "#!unzip -q \"/content/gdrive/MyDrive/AI341_Lab/GANs/fashion-mnist_test.csv.zip\" -d \"/content/gdrive/MyDrive/AI341_Lab/GANs\""
      ]
    },
    {
      "cell_type": "code",
      "execution_count": null,
      "metadata": {
        "_cell_guid": "79c7e3d0-c299-4dcb-8224-4455121ee9b0",
        "_uuid": "d629ff2d2480ee46fbb7e2d37f6b5fab8052498a",
        "id": "FkUMMYN9M7lO"
      },
      "outputs": [
        {
          "data": {
            "text/html": [
              "<div>\n",
              "<style scoped>\n",
              "    .dataframe tbody tr th:only-of-type {\n",
              "        vertical-align: middle;\n",
              "    }\n",
              "\n",
              "    .dataframe tbody tr th {\n",
              "        vertical-align: top;\n",
              "    }\n",
              "\n",
              "    .dataframe thead th {\n",
              "        text-align: right;\n",
              "    }\n",
              "</style>\n",
              "<table border=\"1\" class=\"dataframe\">\n",
              "  <thead>\n",
              "    <tr style=\"text-align: right;\">\n",
              "      <th></th>\n",
              "      <th>label</th>\n",
              "      <th>pixel1</th>\n",
              "      <th>pixel2</th>\n",
              "      <th>pixel3</th>\n",
              "      <th>pixel4</th>\n",
              "      <th>pixel5</th>\n",
              "      <th>pixel6</th>\n",
              "      <th>pixel7</th>\n",
              "      <th>pixel8</th>\n",
              "      <th>pixel9</th>\n",
              "      <th>...</th>\n",
              "      <th>pixel775</th>\n",
              "      <th>pixel776</th>\n",
              "      <th>pixel777</th>\n",
              "      <th>pixel778</th>\n",
              "      <th>pixel779</th>\n",
              "      <th>pixel780</th>\n",
              "      <th>pixel781</th>\n",
              "      <th>pixel782</th>\n",
              "      <th>pixel783</th>\n",
              "      <th>pixel784</th>\n",
              "    </tr>\n",
              "  </thead>\n",
              "  <tbody>\n",
              "    <tr>\n",
              "      <th>0</th>\n",
              "      <td>2</td>\n",
              "      <td>0</td>\n",
              "      <td>0</td>\n",
              "      <td>0</td>\n",
              "      <td>0</td>\n",
              "      <td>0</td>\n",
              "      <td>0</td>\n",
              "      <td>0</td>\n",
              "      <td>0</td>\n",
              "      <td>0</td>\n",
              "      <td>...</td>\n",
              "      <td>0</td>\n",
              "      <td>0</td>\n",
              "      <td>0</td>\n",
              "      <td>0</td>\n",
              "      <td>0</td>\n",
              "      <td>0</td>\n",
              "      <td>0</td>\n",
              "      <td>0</td>\n",
              "      <td>0</td>\n",
              "      <td>0</td>\n",
              "    </tr>\n",
              "    <tr>\n",
              "      <th>1</th>\n",
              "      <td>9</td>\n",
              "      <td>0</td>\n",
              "      <td>0</td>\n",
              "      <td>0</td>\n",
              "      <td>0</td>\n",
              "      <td>0</td>\n",
              "      <td>0</td>\n",
              "      <td>0</td>\n",
              "      <td>0</td>\n",
              "      <td>0</td>\n",
              "      <td>...</td>\n",
              "      <td>0</td>\n",
              "      <td>0</td>\n",
              "      <td>0</td>\n",
              "      <td>0</td>\n",
              "      <td>0</td>\n",
              "      <td>0</td>\n",
              "      <td>0</td>\n",
              "      <td>0</td>\n",
              "      <td>0</td>\n",
              "      <td>0</td>\n",
              "    </tr>\n",
              "    <tr>\n",
              "      <th>2</th>\n",
              "      <td>6</td>\n",
              "      <td>0</td>\n",
              "      <td>0</td>\n",
              "      <td>0</td>\n",
              "      <td>0</td>\n",
              "      <td>0</td>\n",
              "      <td>0</td>\n",
              "      <td>0</td>\n",
              "      <td>5</td>\n",
              "      <td>0</td>\n",
              "      <td>...</td>\n",
              "      <td>0</td>\n",
              "      <td>0</td>\n",
              "      <td>0</td>\n",
              "      <td>30</td>\n",
              "      <td>43</td>\n",
              "      <td>0</td>\n",
              "      <td>0</td>\n",
              "      <td>0</td>\n",
              "      <td>0</td>\n",
              "      <td>0</td>\n",
              "    </tr>\n",
              "    <tr>\n",
              "      <th>3</th>\n",
              "      <td>0</td>\n",
              "      <td>0</td>\n",
              "      <td>0</td>\n",
              "      <td>0</td>\n",
              "      <td>1</td>\n",
              "      <td>2</td>\n",
              "      <td>0</td>\n",
              "      <td>0</td>\n",
              "      <td>0</td>\n",
              "      <td>0</td>\n",
              "      <td>...</td>\n",
              "      <td>3</td>\n",
              "      <td>0</td>\n",
              "      <td>0</td>\n",
              "      <td>0</td>\n",
              "      <td>0</td>\n",
              "      <td>1</td>\n",
              "      <td>0</td>\n",
              "      <td>0</td>\n",
              "      <td>0</td>\n",
              "      <td>0</td>\n",
              "    </tr>\n",
              "    <tr>\n",
              "      <th>4</th>\n",
              "      <td>3</td>\n",
              "      <td>0</td>\n",
              "      <td>0</td>\n",
              "      <td>0</td>\n",
              "      <td>0</td>\n",
              "      <td>0</td>\n",
              "      <td>0</td>\n",
              "      <td>0</td>\n",
              "      <td>0</td>\n",
              "      <td>0</td>\n",
              "      <td>...</td>\n",
              "      <td>0</td>\n",
              "      <td>0</td>\n",
              "      <td>0</td>\n",
              "      <td>0</td>\n",
              "      <td>0</td>\n",
              "      <td>0</td>\n",
              "      <td>0</td>\n",
              "      <td>0</td>\n",
              "      <td>0</td>\n",
              "      <td>0</td>\n",
              "    </tr>\n",
              "  </tbody>\n",
              "</table>\n",
              "<p>5 rows × 785 columns</p>\n",
              "</div>"
            ],
            "text/plain": [
              "   label  pixel1  pixel2  pixel3  pixel4  pixel5  pixel6  pixel7  pixel8  \\\n",
              "0      2       0       0       0       0       0       0       0       0   \n",
              "1      9       0       0       0       0       0       0       0       0   \n",
              "2      6       0       0       0       0       0       0       0       5   \n",
              "3      0       0       0       0       1       2       0       0       0   \n",
              "4      3       0       0       0       0       0       0       0       0   \n",
              "\n",
              "   pixel9  ...  pixel775  pixel776  pixel777  pixel778  pixel779  pixel780  \\\n",
              "0       0  ...         0         0         0         0         0         0   \n",
              "1       0  ...         0         0         0         0         0         0   \n",
              "2       0  ...         0         0         0        30        43         0   \n",
              "3       0  ...         3         0         0         0         0         1   \n",
              "4       0  ...         0         0         0         0         0         0   \n",
              "\n",
              "   pixel781  pixel782  pixel783  pixel784  \n",
              "0         0         0         0         0  \n",
              "1         0         0         0         0  \n",
              "2         0         0         0         0  \n",
              "3         0         0         0         0  \n",
              "4         0         0         0         0  \n",
              "\n",
              "[5 rows x 785 columns]"
            ]
          },
          "execution_count": 6,
          "metadata": {},
          "output_type": "execute_result"
        }
      ],
      "source": [
        "train_data = pd.read_csv('fashion-mnist_train.csv')\n",
        "train_data.head()"
      ]
    },
    {
      "cell_type": "markdown",
      "metadata": {
        "id": "mTSCnE8IM7lO"
      },
      "source": [
        "dropping the labels from the dataset"
      ]
    },
    {
      "cell_type": "code",
      "execution_count": null,
      "metadata": {
        "id": "M3vGwq-xM7lO"
      },
      "outputs": [
        {
          "data": {
            "text/html": [
              "<div>\n",
              "<style scoped>\n",
              "    .dataframe tbody tr th:only-of-type {\n",
              "        vertical-align: middle;\n",
              "    }\n",
              "\n",
              "    .dataframe tbody tr th {\n",
              "        vertical-align: top;\n",
              "    }\n",
              "\n",
              "    .dataframe thead th {\n",
              "        text-align: right;\n",
              "    }\n",
              "</style>\n",
              "<table border=\"1\" class=\"dataframe\">\n",
              "  <thead>\n",
              "    <tr style=\"text-align: right;\">\n",
              "      <th></th>\n",
              "      <th>pixel1</th>\n",
              "      <th>pixel2</th>\n",
              "      <th>pixel3</th>\n",
              "      <th>pixel4</th>\n",
              "      <th>pixel5</th>\n",
              "      <th>pixel6</th>\n",
              "      <th>pixel7</th>\n",
              "      <th>pixel8</th>\n",
              "      <th>pixel9</th>\n",
              "      <th>pixel10</th>\n",
              "      <th>...</th>\n",
              "      <th>pixel775</th>\n",
              "      <th>pixel776</th>\n",
              "      <th>pixel777</th>\n",
              "      <th>pixel778</th>\n",
              "      <th>pixel779</th>\n",
              "      <th>pixel780</th>\n",
              "      <th>pixel781</th>\n",
              "      <th>pixel782</th>\n",
              "      <th>pixel783</th>\n",
              "      <th>pixel784</th>\n",
              "    </tr>\n",
              "  </thead>\n",
              "  <tbody>\n",
              "    <tr>\n",
              "      <th>0</th>\n",
              "      <td>0</td>\n",
              "      <td>0</td>\n",
              "      <td>0</td>\n",
              "      <td>0</td>\n",
              "      <td>0</td>\n",
              "      <td>0</td>\n",
              "      <td>0</td>\n",
              "      <td>0</td>\n",
              "      <td>0</td>\n",
              "      <td>0</td>\n",
              "      <td>...</td>\n",
              "      <td>0</td>\n",
              "      <td>0</td>\n",
              "      <td>0</td>\n",
              "      <td>0</td>\n",
              "      <td>0</td>\n",
              "      <td>0</td>\n",
              "      <td>0</td>\n",
              "      <td>0</td>\n",
              "      <td>0</td>\n",
              "      <td>0</td>\n",
              "    </tr>\n",
              "    <tr>\n",
              "      <th>1</th>\n",
              "      <td>0</td>\n",
              "      <td>0</td>\n",
              "      <td>0</td>\n",
              "      <td>0</td>\n",
              "      <td>0</td>\n",
              "      <td>0</td>\n",
              "      <td>0</td>\n",
              "      <td>0</td>\n",
              "      <td>0</td>\n",
              "      <td>0</td>\n",
              "      <td>...</td>\n",
              "      <td>0</td>\n",
              "      <td>0</td>\n",
              "      <td>0</td>\n",
              "      <td>0</td>\n",
              "      <td>0</td>\n",
              "      <td>0</td>\n",
              "      <td>0</td>\n",
              "      <td>0</td>\n",
              "      <td>0</td>\n",
              "      <td>0</td>\n",
              "    </tr>\n",
              "    <tr>\n",
              "      <th>2</th>\n",
              "      <td>0</td>\n",
              "      <td>0</td>\n",
              "      <td>0</td>\n",
              "      <td>0</td>\n",
              "      <td>0</td>\n",
              "      <td>0</td>\n",
              "      <td>0</td>\n",
              "      <td>5</td>\n",
              "      <td>0</td>\n",
              "      <td>0</td>\n",
              "      <td>...</td>\n",
              "      <td>0</td>\n",
              "      <td>0</td>\n",
              "      <td>0</td>\n",
              "      <td>30</td>\n",
              "      <td>43</td>\n",
              "      <td>0</td>\n",
              "      <td>0</td>\n",
              "      <td>0</td>\n",
              "      <td>0</td>\n",
              "      <td>0</td>\n",
              "    </tr>\n",
              "    <tr>\n",
              "      <th>3</th>\n",
              "      <td>0</td>\n",
              "      <td>0</td>\n",
              "      <td>0</td>\n",
              "      <td>1</td>\n",
              "      <td>2</td>\n",
              "      <td>0</td>\n",
              "      <td>0</td>\n",
              "      <td>0</td>\n",
              "      <td>0</td>\n",
              "      <td>0</td>\n",
              "      <td>...</td>\n",
              "      <td>3</td>\n",
              "      <td>0</td>\n",
              "      <td>0</td>\n",
              "      <td>0</td>\n",
              "      <td>0</td>\n",
              "      <td>1</td>\n",
              "      <td>0</td>\n",
              "      <td>0</td>\n",
              "      <td>0</td>\n",
              "      <td>0</td>\n",
              "    </tr>\n",
              "    <tr>\n",
              "      <th>4</th>\n",
              "      <td>0</td>\n",
              "      <td>0</td>\n",
              "      <td>0</td>\n",
              "      <td>0</td>\n",
              "      <td>0</td>\n",
              "      <td>0</td>\n",
              "      <td>0</td>\n",
              "      <td>0</td>\n",
              "      <td>0</td>\n",
              "      <td>0</td>\n",
              "      <td>...</td>\n",
              "      <td>0</td>\n",
              "      <td>0</td>\n",
              "      <td>0</td>\n",
              "      <td>0</td>\n",
              "      <td>0</td>\n",
              "      <td>0</td>\n",
              "      <td>0</td>\n",
              "      <td>0</td>\n",
              "      <td>0</td>\n",
              "      <td>0</td>\n",
              "    </tr>\n",
              "  </tbody>\n",
              "</table>\n",
              "<p>5 rows × 784 columns</p>\n",
              "</div>"
            ],
            "text/plain": [
              "   pixel1  pixel2  pixel3  pixel4  pixel5  pixel6  pixel7  pixel8  pixel9  \\\n",
              "0       0       0       0       0       0       0       0       0       0   \n",
              "1       0       0       0       0       0       0       0       0       0   \n",
              "2       0       0       0       0       0       0       0       5       0   \n",
              "3       0       0       0       1       2       0       0       0       0   \n",
              "4       0       0       0       0       0       0       0       0       0   \n",
              "\n",
              "   pixel10  ...  pixel775  pixel776  pixel777  pixel778  pixel779  pixel780  \\\n",
              "0        0  ...         0         0         0         0         0         0   \n",
              "1        0  ...         0         0         0         0         0         0   \n",
              "2        0  ...         0         0         0        30        43         0   \n",
              "3        0  ...         3         0         0         0         0         1   \n",
              "4        0  ...         0         0         0         0         0         0   \n",
              "\n",
              "   pixel781  pixel782  pixel783  pixel784  \n",
              "0         0         0         0         0  \n",
              "1         0         0         0         0  \n",
              "2         0         0         0         0  \n",
              "3         0         0         0         0  \n",
              "4         0         0         0         0  \n",
              "\n",
              "[5 rows x 784 columns]"
            ]
          },
          "execution_count": 7,
          "metadata": {},
          "output_type": "execute_result"
        }
      ],
      "source": [
        "X_train = train_data.drop('label',axis=1)\n",
        "X_train.head()"
      ]
    },
    {
      "cell_type": "code",
      "execution_count": null,
      "metadata": {
        "id": "o2lRtbhHM7lO"
      },
      "outputs": [
        {
          "name": "stdout",
          "output_type": "stream",
          "text": [
            "(60000, 784)\n"
          ]
        }
      ],
      "source": [
        "X_train=X_train.values\n",
        "print(X_train.shape)"
      ]
    },
    {
      "cell_type": "code",
      "execution_count": null,
      "metadata": {
        "id": "tAD8wSKkM7lO"
      },
      "outputs": [
        {
          "name": "stdout",
          "output_type": "stream",
          "text": [
            "(60000, 28, 28, 1)\n"
          ]
        }
      ],
      "source": [
        "X_train=X_train.reshape(-1,28,28,1)\n",
        "print(X_train.shape)"
      ]
    },
    {
      "cell_type": "markdown",
      "metadata": {
        "id": "gLGNaYpUM7lP"
      },
      "source": [
        "# **Data Visualization**"
      ]
    },
    {
      "cell_type": "code",
      "execution_count": null,
      "metadata": {
        "id": "SNUnTX6tM7lP"
      },
      "outputs": [
        {
          "data": {
            "image/png": "[encoded data removed]",
            "text/plain": [
              "<Figure size 640x480 with 4 Axes>"
            ]
          },
          "metadata": {},
          "output_type": "display_data"
        }
      ],
      "source": [
        "fig,axe=plt.subplots(2,2)\n",
        "idx = 0\n",
        "for i in range(2):\n",
        "    for j in range(2):\n",
        "        axe[i,j].imshow(X_train[idx].reshape(28,28),cmap='gray')\n",
        "        idx+=1"
      ]
    },
    {
      "cell_type": "code",
      "execution_count": null,
      "metadata": {
        "id": "JyD6EVrkM7lP"
      },
      "outputs": [],
      "source": [
        "X_train =  X_train.astype('float32')"
      ]
    },
    {
      "cell_type": "markdown",
      "metadata": {
        "id": "i99kal93M7lP"
      },
      "source": [
        "The pixel data ranges from 0 to 255 hence dividing each pixel by 255,i.e,normalizing the data such that the range is within 0 to 1."
      ]
    },
    {
      "cell_type": "code",
      "execution_count": null,
      "metadata": {
        "id": "2aNii-XpM7lQ"
      },
      "outputs": [],
      "source": [
        "X_train = X_train/255\n",
        "X_train = X_train*2 - 1."
      ]
    },
    {
      "cell_type": "markdown",
      "metadata": {
        "id": "eXwn7Iy1M7lQ"
      },
      "source": [
        "**NOTE**  after normalizing it is multiplied with 2 and substracted from 1 such that it ranges from (-1,1) because in DCGANs the last layer generative model activation is tanh which range is (-1,1) unlike sigmoid ranging (0,1) ."
      ]
    },
    {
      "cell_type": "code",
      "execution_count": null,
      "metadata": {
        "id": "rU9uehGWM7lQ"
      },
      "outputs": [
        {
          "name": "stdout",
          "output_type": "stream",
          "text": [
            "1.0 -1.0\n"
          ]
        }
      ],
      "source": [
        "print(X_train.max(),X_train.min())"
      ]
    },
    {
      "cell_type": "markdown",
      "metadata": {
        "id": "Tbn1H5egM7lQ"
      },
      "source": [
        "# **Simple GAN Model**"
      ]
    },
    {
      "cell_type": "markdown",
      "metadata": {
        "id": "ZUHk3nyAM7lR"
      },
      "source": [
        "**Generative part**"
      ]
    },
    {
      "cell_type": "code",
      "execution_count": null,
      "metadata": {
        "id": "mGbmwmBoM7lR"
      },
      "outputs": [
        {
          "name": "stdout",
          "output_type": "stream",
          "text": [
            "Metal device set to: Apple M1\n"
          ]
        },
        {
          "name": "stderr",
          "output_type": "stream",
          "text": [
            "2022-12-23 10:41:35.108369: I tensorflow/core/common_runtime/pluggable_device/pluggable_device_factory.cc:306] Could not identify NUMA node of platform GPU ID 0, defaulting to 0. Your kernel may not have been built with NUMA support.\n",
            "2022-12-23 10:41:35.108470: I tensorflow/core/common_runtime/pluggable_device/pluggable_device_factory.cc:272] Created TensorFlow device (/job:localhost/replica:0/task:0/device:GPU:0 with 0 MB memory) -> physical PluggableDevice (device: 0, name: METAL, pci bus id: <undefined>)\n"
          ]
        }
      ],
      "source": [
        "generator = Sequential()\n",
        "generator.add(Dense(512,input_shape=[100]))\n",
        "generator.add(LeakyReLU(alpha=0.2))\n",
        "generator.add(BatchNormalization(momentum=0.8))\n",
        "generator.add(Dense(256))\n",
        "generator.add(LeakyReLU(alpha=0.2))\n",
        "generator.add(BatchNormalization(momentum=0.8))\n",
        "generator.add(Dense(128))\n",
        "generator.add(LeakyReLU(alpha=0.2))\n",
        "generator.add(BatchNormalization(momentum=0.8))\n",
        "generator.add(Dense(784))\n",
        "generator.add(Reshape([28,28,1]))"
      ]
    },
    {
      "cell_type": "code",
      "execution_count": null,
      "metadata": {
        "id": "UjR54-OoM7lR"
      },
      "outputs": [
        {
          "name": "stdout",
          "output_type": "stream",
          "text": [
            "Model: \"sequential\"\n",
            "_________________________________________________________________\n",
            " Layer (type)                Output Shape              Param #   \n",
            "=================================================================\n",
            " dense (Dense)               (None, 512)               51712     \n",
            "                                                                 \n",
            " leaky_re_lu (LeakyReLU)     (None, 512)               0         \n",
            "                                                                 \n",
            " batch_normalization (BatchN  (None, 512)              2048      \n",
            " ormalization)                                                   \n",
            "                                                                 \n",
            " dense_1 (Dense)             (None, 256)               131328    \n",
            "                                                                 \n",
            " leaky_re_lu_1 (LeakyReLU)   (None, 256)               0         \n",
            "                                                                 \n",
            " batch_normalization_1 (Batc  (None, 256)              1024      \n",
            " hNormalization)                                                 \n",
            "                                                                 \n",
            " dense_2 (Dense)             (None, 128)               32896     \n",
            "                                                                 \n",
            " leaky_re_lu_2 (LeakyReLU)   (None, 128)               0         \n",
            "                                                                 \n",
            " batch_normalization_2 (Batc  (None, 128)              512       \n",
            " hNormalization)                                                 \n",
            "                                                                 \n",
            " dense_3 (Dense)             (None, 784)               101136    \n",
            "                                                                 \n",
            " reshape (Reshape)           (None, 28, 28, 1)         0         \n",
            "                                                                 \n",
            "=================================================================\n",
            "Total params: 320,656\n",
            "Trainable params: 318,864\n",
            "Non-trainable params: 1,792\n",
            "_________________________________________________________________\n"
          ]
        }
      ],
      "source": [
        "generator.summary()"
      ]
    },
    {
      "cell_type": "markdown",
      "metadata": {
        "id": "xPPA2GRcM7lR"
      },
      "source": [
        "**Discriminatory part**"
      ]
    },
    {
      "cell_type": "code",
      "execution_count": null,
      "metadata": {
        "id": "Z0sqXhF7M7lR"
      },
      "outputs": [],
      "source": [
        "discriminator = Sequential()\n",
        "discriminator.add(Dense(1,input_shape=[28,28,1]))\n",
        "discriminator.add(Flatten())\n",
        "discriminator.add(Dense(256))\n",
        "discriminator.add(LeakyReLU(alpha=0.2))\n",
        "discriminator.add(Dropout(0.5))\n",
        "discriminator.add(Dense(128))\n",
        "discriminator.add(LeakyReLU(alpha=0.2))\n",
        "discriminator.add(Dropout(0.5))\n",
        "discriminator.add(Dense(64))\n",
        "discriminator.add(LeakyReLU(alpha=0.2))\n",
        "discriminator.add(Dropout(0.5))\n",
        "discriminator.add(Dense(1,activation='sigmoid'))"
      ]
    },
    {
      "cell_type": "code",
      "execution_count": null,
      "metadata": {
        "id": "D3NUc4nSM7lS"
      },
      "outputs": [
        {
          "name": "stdout",
          "output_type": "stream",
          "text": [
            "Model: \"sequential_1\"\n",
            "_________________________________________________________________\n",
            " Layer (type)                Output Shape              Param #   \n",
            "=================================================================\n",
            " dense_4 (Dense)             (None, 28, 28, 1)         2         \n",
            "                                                                 \n",
            " flatten (Flatten)           (None, 784)               0         \n",
            "                                                                 \n",
            " dense_5 (Dense)             (None, 256)               200960    \n",
            "                                                                 \n",
            " leaky_re_lu_3 (LeakyReLU)   (None, 256)               0         \n",
            "                                                                 \n",
            " dropout (Dropout)           (None, 256)               0         \n",
            "                                                                 \n",
            " dense_6 (Dense)             (None, 128)               32896     \n",
            "                                                                 \n",
            " leaky_re_lu_4 (LeakyReLU)   (None, 128)               0         \n",
            "                                                                 \n",
            " dropout_1 (Dropout)         (None, 128)               0         \n",
            "                                                                 \n",
            " dense_7 (Dense)             (None, 64)                8256      \n",
            "                                                                 \n",
            " leaky_re_lu_5 (LeakyReLU)   (None, 64)                0         \n",
            "                                                                 \n",
            " dropout_2 (Dropout)         (None, 64)                0         \n",
            "                                                                 \n",
            " dense_8 (Dense)             (None, 1)                 65        \n",
            "                                                                 \n",
            "=================================================================\n",
            "Total params: 242,179\n",
            "Trainable params: 242,179\n",
            "Non-trainable params: 0\n",
            "_________________________________________________________________\n"
          ]
        }
      ],
      "source": [
        "discriminator.summary()"
      ]
    },
    {
      "cell_type": "markdown",
      "metadata": {
        "id": "lzxS5KxEM7lS"
      },
      "source": [
        "1. Compiling the discriminator layer\n",
        "2. Compiling the GAN \n",
        "\n",
        "NOTE : the generator layer is not compiled seperately because it gets trained as part of the combined model but training the discriminator is necessary because it is trained before the combined model."
      ]
    },
    {
      "cell_type": "code",
      "execution_count": null,
      "metadata": {
        "id": "cj3Mu8WCM7lS"
      },
      "outputs": [],
      "source": [
        "GAN =Sequential([generator,discriminator])\n",
        "discriminator.compile(optimizer='adam',loss='binary_crossentropy')\n",
        "discriminator.trainable = False"
      ]
    },
    {
      "cell_type": "code",
      "execution_count": null,
      "metadata": {
        "id": "I_JYJFJYM7lS"
      },
      "outputs": [],
      "source": [
        "GAN.compile(optimizer='adam',loss='binary_crossentropy')"
      ]
    },
    {
      "cell_type": "code",
      "execution_count": null,
      "metadata": {
        "id": "bbTdjP4XM7lS"
      },
      "outputs": [
        {
          "data": {
            "text/plain": [
              "[<keras.engine.sequential.Sequential at 0x16e2320d0>,\n",
              " <keras.engine.sequential.Sequential at 0x14f635970>]"
            ]
          },
          "execution_count": 20,
          "metadata": {},
          "output_type": "execute_result"
        }
      ],
      "source": [
        "GAN.layers"
      ]
    },
    {
      "cell_type": "code",
      "execution_count": null,
      "metadata": {
        "id": "xs9cl8bPM7lS"
      },
      "outputs": [
        {
          "name": "stdout",
          "output_type": "stream",
          "text": [
            "Model: \"sequential_2\"\n",
            "_________________________________________________________________\n",
            " Layer (type)                Output Shape              Param #   \n",
            "=================================================================\n",
            " sequential (Sequential)     (None, 28, 28, 1)         320656    \n",
            "                                                                 \n",
            " sequential_1 (Sequential)   (None, 1)                 242179    \n",
            "                                                                 \n",
            "=================================================================\n",
            "Total params: 562,835\n",
            "Trainable params: 318,864\n",
            "Non-trainable params: 243,971\n",
            "_________________________________________________________________\n"
          ]
        }
      ],
      "source": [
        "GAN.summary()"
      ]
    },
    {
      "cell_type": "code",
      "execution_count": null,
      "metadata": {
        "id": "GhR7bib3M7lT"
      },
      "outputs": [],
      "source": [
        "epochs = 5 #30\n",
        "batch_size = 100\n",
        "noise_shape=100"
      ]
    },
    {
      "cell_type": "code",
      "execution_count": null,
      "metadata": {
        "_kg_hide-output": true,
        "id": "ce8D7LzlM7lT"
      },
      "outputs": [
        {
          "name": "stdout",
          "output_type": "stream",
          "text": [
            "Currently on Epoch 1\n"
          ]
        },
        {
          "name": "stderr",
          "output_type": "stream",
          "text": [
            "2022-12-23 10:41:35.443318: W tensorflow/core/platform/profile_utils/cpu_utils.cc:128] Failed to get CPU frequency: 0 Hz\n",
            "2022-12-23 10:41:35.443472: I tensorflow/core/grappler/optimizers/custom_graph_optimizer_registry.cc:114] Plugin optimizer for device_type GPU is enabled.\n",
            "2022-12-23 10:41:35.706687: I tensorflow/core/grappler/optimizers/custom_graph_optimizer_registry.cc:114] Plugin optimizer for device_type GPU is enabled.\n",
            "2022-12-23 10:41:36.293379: I tensorflow/core/grappler/optimizers/custom_graph_optimizer_registry.cc:114] Plugin optimizer for device_type GPU is enabled.\n"
          ]
        },
        {
          "name": "stdout",
          "output_type": "stream",
          "text": [
            "\tCurrently on batch number 50 of 600\n",
            "\tCurrently on batch number 100 of 600\n",
            "\tCurrently on batch number 150 of 600\n",
            "\tCurrently on batch number 200 of 600\n",
            "\tCurrently on batch number 250 of 600\n",
            "\tCurrently on batch number 300 of 600\n",
            "\tCurrently on batch number 350 of 600\n",
            "\tCurrently on batch number 400 of 600\n",
            "\tCurrently on batch number 450 of 600\n",
            "\tCurrently on batch number 500 of 600\n",
            "\tCurrently on batch number 550 of 600\n",
            "\tCurrently on batch number 600 of 600\n",
            "1/1 [==============================] - 0s 84ms/step\n"
          ]
        },
        {
          "name": "stderr",
          "output_type": "stream",
          "text": [
            "2022-12-23 10:41:59.721740: I tensorflow/core/grappler/optimizers/custom_graph_optimizer_registry.cc:114] Plugin optimizer for device_type GPU is enabled.\n"
          ]
        },
        {
          "data": {
            "image/png": "[encoded data removed]",
            "text/plain": [
              "<Figure size 640x480 with 10 Axes>"
            ]
          },
          "metadata": {},
          "output_type": "display_data"
        },
        {
          "name": "stdout",
          "output_type": "stream",
          "text": [
            "Currently on Epoch 2\n",
            "\tCurrently on batch number 50 of 600\n",
            "\tCurrently on batch number 100 of 600\n",
            "\tCurrently on batch number 150 of 600\n",
            "\tCurrently on batch number 200 of 600\n",
            "\tCurrently on batch number 250 of 600\n",
            "\tCurrently on batch number 300 of 600\n",
            "\tCurrently on batch number 350 of 600\n",
            "\tCurrently on batch number 400 of 600\n",
            "\tCurrently on batch number 450 of 600\n",
            "\tCurrently on batch number 500 of 600\n",
            "\tCurrently on batch number 550 of 600\n",
            "\tCurrently on batch number 600 of 600\n",
            "Currently on Epoch 3\n",
            "\tCurrently on batch number 50 of 600\n",
            "\tCurrently on batch number 100 of 600\n",
            "\tCurrently on batch number 150 of 600\n",
            "\tCurrently on batch number 200 of 600\n",
            "\tCurrently on batch number 250 of 600\n",
            "\tCurrently on batch number 300 of 600\n",
            "\tCurrently on batch number 350 of 600\n",
            "\tCurrently on batch number 400 of 600\n",
            "\tCurrently on batch number 450 of 600\n",
            "\tCurrently on batch number 500 of 600\n",
            "\tCurrently on batch number 550 of 600\n",
            "\tCurrently on batch number 600 of 600\n",
            "Currently on Epoch 4\n",
            "\tCurrently on batch number 50 of 600\n",
            "\tCurrently on batch number 100 of 600\n",
            "\tCurrently on batch number 150 of 600\n",
            "\tCurrently on batch number 200 of 600\n",
            "\tCurrently on batch number 250 of 600\n",
            "\tCurrently on batch number 300 of 600\n",
            "\tCurrently on batch number 350 of 600\n",
            "\tCurrently on batch number 400 of 600\n",
            "\tCurrently on batch number 450 of 600\n",
            "\tCurrently on batch number 500 of 600\n",
            "\tCurrently on batch number 550 of 600\n",
            "\tCurrently on batch number 600 of 600\n",
            "Currently on Epoch 5\n",
            "\tCurrently on batch number 50 of 600\n",
            "\tCurrently on batch number 100 of 600\n",
            "\tCurrently on batch number 150 of 600\n",
            "\tCurrently on batch number 200 of 600\n",
            "\tCurrently on batch number 250 of 600\n",
            "\tCurrently on batch number 300 of 600\n",
            "\tCurrently on batch number 350 of 600\n",
            "\tCurrently on batch number 400 of 600\n",
            "\tCurrently on batch number 450 of 600\n",
            "\tCurrently on batch number 500 of 600\n",
            "\tCurrently on batch number 550 of 600\n",
            "\tCurrently on batch number 600 of 600\n",
            "Training is complete\n"
          ]
        }
      ],
      "source": [
        "with tf.device('/gpu:0'):\n",
        " for epoch in range(epochs):\n",
        "    print(f\"Currently on Epoch {epoch+1}\")\n",
        "    \n",
        "    \n",
        "    for i in range(X_train.shape[0]//batch_size):\n",
        "        \n",
        "        if (i+1)%50 == 0:\n",
        "            print(f\"\\tCurrently on batch number {i+1} of {X_train.shape[0]//batch_size}\")\n",
        "            \n",
        "        noise=np.random.normal(size=[batch_size,noise_shape])\n",
        "       \n",
        "        gen_image = generator.predict_on_batch(noise)\n",
        "        \n",
        "        train_dataset = X_train[i*batch_size:(i+1)*batch_size]\n",
        "       \n",
        "        #training discriminator on real images\n",
        "        train_label=np.ones(shape=(batch_size,1))\n",
        "        discriminator.trainable = True\n",
        "        d_loss_real=discriminator.train_on_batch(train_dataset,train_label)\n",
        "        \n",
        "        #training discriminator on fake images\n",
        "        train_label=np.zeros(shape=(batch_size,1))\n",
        "        d_loss_fake=discriminator.train_on_batch(gen_image,train_label)\n",
        "        \n",
        "        \n",
        "        #training generator \n",
        "        noise=np.random.normal(size=[batch_size,noise_shape])\n",
        "        train_label=np.ones(shape=(batch_size,1))\n",
        "        discriminator.trainable = False\n",
        "        \n",
        "        d_g_loss_batch =GAN.train_on_batch(noise, train_label)\n",
        "        \n",
        "        \n",
        "        \n",
        "       \n",
        "    #plotting generated images at the start and then after every 10 epoch\n",
        "    if epoch % 10 == 0:\n",
        "        samples = 10\n",
        "        x_fake = generator.predict(np.random.normal(loc=0, scale=1, size=(samples, 100)))\n",
        "\n",
        "        for k in range(samples):\n",
        "            plt.subplot(2, 5, k+1)\n",
        "            plt.imshow(x_fake[k].reshape(28, 28), cmap='gray')\n",
        "            plt.xticks([])\n",
        "            plt.yticks([])\n",
        "\n",
        "        plt.tight_layout()\n",
        "        plt.show()\n",
        "\n",
        "        \n",
        "        \n",
        "print('Training is complete')"
      ]
    },
    {
      "cell_type": "code",
      "execution_count": null,
      "metadata": {
        "id": "Ak7TVT-fM7lT"
      },
      "outputs": [
        {
          "name": "stdout",
          "output_type": "stream",
          "text": [
            "1/1 [==============================] - 0s 9ms/step\n"
          ]
        }
      ],
      "source": [
        "noise=np.random.normal(size=[10,noise_shape])\n",
        "\n",
        "gen_image = generator.predict(noise)"
      ]
    },
    {
      "cell_type": "markdown",
      "metadata": {
        "id": "efbssXYiM7lT"
      },
      "source": [
        "noise generated using np.random.normal is given to as input to the generator. In the next step the generator produces batches of meaningful alike image from the random distribution."
      ]
    },
    {
      "cell_type": "code",
      "execution_count": null,
      "metadata": {
        "id": "KwhODTDkM7lT"
      },
      "outputs": [
        {
          "data": {
            "text/plain": [
              "Text(0.5, 1.0, 'How the noise looks')"
            ]
          },
          "execution_count": 25,
          "metadata": {},
          "output_type": "execute_result"
        },
        {
          "data": {
            "image/png": "[encoded data removed]",
            "text/plain": [
              "<Figure size 640x480 with 1 Axes>"
            ]
          },
          "metadata": {},
          "output_type": "display_data"
        }
      ],
      "source": [
        "plt.imshow(noise)\n",
        "plt.title('How the noise looks')"
      ]
    },
    {
      "cell_type": "markdown",
      "metadata": {
        "id": "ai1zR2OqM7lT"
      },
      "source": [
        "**Generator producing images from noise**"
      ]
    },
    {
      "cell_type": "code",
      "execution_count": null,
      "metadata": {
        "id": "9pJFw-chM7lT"
      },
      "outputs": [
        {
          "data": {
            "image/png": "[encoded data removed]",
            "text/plain": [
              "<Figure size 640x480 with 10 Axes>"
            ]
          },
          "metadata": {},
          "output_type": "display_data"
        }
      ],
      "source": [
        "fig,axe=plt.subplots(2,5)\n",
        "fig.suptitle('Generated Images from Noise using GANs')\n",
        "idx=0\n",
        "for i in range(2):\n",
        "    for j in range(5):\n",
        "         axe[i,j].imshow(gen_image[idx].reshape(28,28),cmap='gray')\n",
        "         idx+=1"
      ]
    },
    {
      "cell_type": "markdown",
      "metadata": {
        "id": "14VnhIkUM7lU"
      },
      "source": [
        "**Inference from generated images**\n",
        "\n",
        "Find an issue and report here.\n",
        "\n",
        "The above issue can be resolved using DCGANs as given below."
      ]
    },
    {
      "cell_type": "markdown",
      "metadata": {
        "id": "J8D7qsvLM7lU"
      },
      "source": [
        "# **GAN using Deep Convolutions**"
      ]
    },
    {
      "cell_type": "markdown",
      "metadata": {
        "id": "ulcJX_ClM7lU"
      },
      "source": [
        "In this model we construct the generator using transpose convolution layers instead of simple dense layers which helps better in feature capturing and prevents the issue as described earlier. Similarly while building the discriminator layer,instead of simple dense units it uses convolution layers to increase efficiency of it's classification.\n",
        "\n",
        "\n",
        "![GANsdeep.png](attachment:GANsdeep.png)\n",
        "\n",
        "\n",
        "The paper that proposed this architecture https://arxiv.org/abs/1511.06434\n",
        "To know more about Conv2D https://keras.io/layers/convolutional/"
      ]
    },
    {
      "cell_type": "markdown",
      "metadata": {
        "id": "cIUqf6EjasJ_"
      },
      "source": [
        "Write your code here for Building Generator:"
      ]
    },
    {
      "cell_type": "code",
      "execution_count": null,
      "metadata": {
        "id": "WGlMdPdza8mE"
      },
      "outputs": [],
      "source": [
        "generator = Sequential()\n",
        "generator.add(Dense(10*10*32,input_shape=[100]))\n",
        "generator.add(LeakyReLU(alpha=0.2))\n",
        "generator.add(BatchNormalization(momentum=0.8))\n",
        "generator.add(Reshape((10, 10, 32)))\n",
        "generator.add(Conv2DTranspose(32, (3, 3), strides=(2, 2)))\n",
        "generator.add(LeakyReLU(alpha=0.2))\n",
        "generator.add(BatchNormalization(momentum=0.8))\n",
        "generator.add(Conv2DTranspose(32, (3, 3), strides=(2, 2)))\n",
        "generator.add(LeakyReLU(alpha=0.2))\n",
        "generator.add(BatchNormalization(momentum=0.8))\n",
        "generator.add(Flatten())\n",
        "generator.add(Dense(784))\n",
        "generator.add(Reshape([28,28,1]))"
      ]
    },
    {
      "cell_type": "markdown",
      "metadata": {
        "id": "6_g3jWpva8_i"
      },
      "source": [
        "Generate Model Summary:"
      ]
    },
    {
      "cell_type": "code",
      "execution_count": null,
      "metadata": {
        "id": "Qp1Upmvda_mw"
      },
      "outputs": [
        {
          "name": "stdout",
          "output_type": "stream",
          "text": [
            "Model: \"sequential_3\"\n",
            "_________________________________________________________________\n",
            " Layer (type)                Output Shape              Param #   \n",
            "=================================================================\n",
            " dense_9 (Dense)             (None, 3200)              323200    \n",
            "                                                                 \n",
            " leaky_re_lu_6 (LeakyReLU)   (None, 3200)              0         \n",
            "                                                                 \n",
            " batch_normalization_3 (Batc  (None, 3200)             12800     \n",
            " hNormalization)                                                 \n",
            "                                                                 \n",
            " reshape_1 (Reshape)         (None, 10, 10, 32)        0         \n",
            "                                                                 \n",
            " conv2d_transpose (Conv2DTra  (None, 21, 21, 32)       9248      \n",
            " nspose)                                                         \n",
            "                                                                 \n",
            " leaky_re_lu_7 (LeakyReLU)   (None, 21, 21, 32)        0         \n",
            "                                                                 \n",
            " batch_normalization_4 (Batc  (None, 21, 21, 32)       128       \n",
            " hNormalization)                                                 \n",
            "                                                                 \n",
            " conv2d_transpose_1 (Conv2DT  (None, 43, 43, 32)       9248      \n",
            " ranspose)                                                       \n",
            "                                                                 \n",
            " leaky_re_lu_8 (LeakyReLU)   (None, 43, 43, 32)        0         \n",
            "                                                                 \n",
            " batch_normalization_5 (Batc  (None, 43, 43, 32)       128       \n",
            " hNormalization)                                                 \n",
            "                                                                 \n",
            " flatten_1 (Flatten)         (None, 59168)             0         \n",
            "                                                                 \n",
            " dense_10 (Dense)            (None, 784)               46388496  \n",
            "                                                                 \n",
            " reshape_2 (Reshape)         (None, 28, 28, 1)         0         \n",
            "                                                                 \n",
            "=================================================================\n",
            "Total params: 46,743,248\n",
            "Trainable params: 46,736,720\n",
            "Non-trainable params: 6,528\n",
            "_________________________________________________________________\n"
          ]
        }
      ],
      "source": [
        "generator.summary()"
      ]
    },
    {
      "cell_type": "markdown",
      "metadata": {
        "id": "ByeRXSDibFOO"
      },
      "source": [
        "Write your code here for Building Discriminator:"
      ]
    },
    {
      "cell_type": "code",
      "execution_count": null,
      "metadata": {
        "id": "MmA1IEQfbLkD"
      },
      "outputs": [],
      "source": [
        "discriminator = Sequential()\n",
        "discriminator.add(Dense(1,input_shape=[28,28,1]))\n",
        "discriminator.add(LeakyReLU(alpha=0.2))\n",
        "discriminator.add(Conv2D(32, (3, 3)))\n",
        "discriminator.add(LeakyReLU(alpha=0.2))\n",
        "discriminator.add(Conv2D(64, (3, 3)))\n",
        "discriminator.add(LeakyReLU(alpha=0.2))\n",
        "discriminator.add(Flatten())\n",
        "discriminator.add(Dense(128))\n",
        "discriminator.add(LeakyReLU(alpha=0.2))\n",
        "discriminator.add(Dropout(0.5))\n",
        "discriminator.add(Dense(64))\n",
        "discriminator.add(LeakyReLU(alpha=0.2))\n",
        "discriminator.add(Dropout(0.5))\n",
        "discriminator.add(Dense(32))\n",
        "discriminator.add(LeakyReLU(alpha=0.2))\n",
        "discriminator.add(Dropout(0.5))\n",
        "discriminator.add(Dense(1,activation='sigmoid'))"
      ]
    },
    {
      "cell_type": "markdown",
      "metadata": {
        "id": "e0dAbpmLbBNO"
      },
      "source": [
        "Discriminator Summary:"
      ]
    },
    {
      "cell_type": "code",
      "execution_count": null,
      "metadata": {
        "id": "zJbCOqFAbPR5"
      },
      "outputs": [
        {
          "name": "stdout",
          "output_type": "stream",
          "text": [
            "Model: \"sequential_4\"\n",
            "_________________________________________________________________\n",
            " Layer (type)                Output Shape              Param #   \n",
            "=================================================================\n",
            " dense_11 (Dense)            (None, 28, 28, 1)         2         \n",
            "                                                                 \n",
            " leaky_re_lu_9 (LeakyReLU)   (None, 28, 28, 1)         0         \n",
            "                                                                 \n",
            " conv2d (Conv2D)             (None, 26, 26, 32)        320       \n",
            "                                                                 \n",
            " leaky_re_lu_10 (LeakyReLU)  (None, 26, 26, 32)        0         \n",
            "                                                                 \n",
            " conv2d_1 (Conv2D)           (None, 24, 24, 64)        18496     \n",
            "                                                                 \n",
            " leaky_re_lu_11 (LeakyReLU)  (None, 24, 24, 64)        0         \n",
            "                                                                 \n",
            " flatten_2 (Flatten)         (None, 36864)             0         \n",
            "                                                                 \n",
            " dense_12 (Dense)            (None, 128)               4718720   \n",
            "                                                                 \n",
            " leaky_re_lu_12 (LeakyReLU)  (None, 128)               0         \n",
            "                                                                 \n",
            " dropout_3 (Dropout)         (None, 128)               0         \n",
            "                                                                 \n",
            " dense_13 (Dense)            (None, 64)                8256      \n",
            "                                                                 \n",
            " leaky_re_lu_13 (LeakyReLU)  (None, 64)                0         \n",
            "                                                                 \n",
            " dropout_4 (Dropout)         (None, 64)                0         \n",
            "                                                                 \n",
            " dense_14 (Dense)            (None, 32)                2080      \n",
            "                                                                 \n",
            " leaky_re_lu_14 (LeakyReLU)  (None, 32)                0         \n",
            "                                                                 \n",
            " dropout_5 (Dropout)         (None, 32)                0         \n",
            "                                                                 \n",
            " dense_15 (Dense)            (None, 1)                 33        \n",
            "                                                                 \n",
            "=================================================================\n",
            "Total params: 4,747,907\n",
            "Trainable params: 4,747,907\n",
            "Non-trainable params: 0\n",
            "_________________________________________________________________\n"
          ]
        }
      ],
      "source": [
        "discriminator.summary()"
      ]
    },
    {
      "cell_type": "markdown",
      "metadata": {
        "id": "zIffFV-ObeX9"
      },
      "source": [
        "Compiling the GAN:"
      ]
    },
    {
      "cell_type": "code",
      "execution_count": null,
      "metadata": {
        "id": "GTfPmjudbijI"
      },
      "outputs": [
        {
          "data": {
            "text/plain": [
              "[<keras.engine.sequential.Sequential at 0x13fb571c0>,\n",
              " <keras.engine.sequential.Sequential at 0x13fb4bcd0>]"
            ]
          },
          "execution_count": 31,
          "metadata": {},
          "output_type": "execute_result"
        }
      ],
      "source": [
        "GAN =Sequential([generator,discriminator])\n",
        "discriminator.compile(optimizer='adam',loss='binary_crossentropy')\n",
        "discriminator.trainable = False\n",
        "\n",
        "GAN.compile(optimizer='adam',loss='binary_crossentropy')\n",
        "GAN.layers"
      ]
    },
    {
      "cell_type": "markdown",
      "metadata": {
        "id": "kg3M1PztbjbL"
      },
      "source": [
        "GAN summary:"
      ]
    },
    {
      "cell_type": "code",
      "execution_count": null,
      "metadata": {
        "id": "-pMkXrOVbiyG"
      },
      "outputs": [
        {
          "name": "stdout",
          "output_type": "stream",
          "text": [
            "Model: \"sequential_5\"\n",
            "_________________________________________________________________\n",
            " Layer (type)                Output Shape              Param #   \n",
            "=================================================================\n",
            " sequential_3 (Sequential)   (None, 28, 28, 1)         46743248  \n",
            "                                                                 \n",
            " sequential_4 (Sequential)   (None, 1)                 4747907   \n",
            "                                                                 \n",
            "=================================================================\n",
            "Total params: 51,491,155\n",
            "Trainable params: 46,736,720\n",
            "Non-trainable params: 4,754,435\n",
            "_________________________________________________________________\n"
          ]
        }
      ],
      "source": [
        "GAN.summary()"
      ]
    },
    {
      "cell_type": "markdown",
      "metadata": {
        "id": "gDIZS_tjbnWW"
      },
      "source": [
        "Train your model - Mention epoch size, batch size, noise shape"
      ]
    },
    {
      "cell_type": "code",
      "execution_count": null,
      "metadata": {
        "id": "S46w6fd1buuL"
      },
      "outputs": [],
      "source": [
        "epochs = 5 #30\n",
        "batch_size = 100\n",
        "noise_shape=100"
      ]
    },
    {
      "cell_type": "code",
      "execution_count": null,
      "metadata": {
        "id": "4M8ORxqjbxKh"
      },
      "outputs": [
        {
          "name": "stdout",
          "output_type": "stream",
          "text": [
            "Currently on Epoch 1\n",
            "\tCurrently on batch number 50 of 600\n",
            "\tCurrently on batch number 100 of 600\n",
            "\tCurrently on batch number 150 of 600\n",
            "\tCurrently on batch number 200 of 600\n",
            "\tCurrently on batch number 250 of 600\n",
            "\tCurrently on batch number 300 of 600\n",
            "\tCurrently on batch number 350 of 600\n",
            "\tCurrently on batch number 400 of 600\n",
            "\tCurrently on batch number 450 of 600\n",
            "\tCurrently on batch number 500 of 600\n",
            "\tCurrently on batch number 550 of 600\n",
            "\tCurrently on batch number 600 of 600\n",
            "1/1 [==============================] - 0s 14ms/step\n"
          ]
        },
        {
          "data": {
            "image/png": "[encoded data removed]",
            "text/plain": [
              "<Figure size 640x480 with 10 Axes>"
            ]
          },
          "metadata": {},
          "output_type": "display_data"
        },
        {
          "name": "stdout",
          "output_type": "stream",
          "text": [
            "Currently on Epoch 2\n",
            "\tCurrently on batch number 50 of 600\n",
            "\tCurrently on batch number 100 of 600\n",
            "\tCurrently on batch number 150 of 600\n",
            "\tCurrently on batch number 200 of 600\n",
            "\tCurrently on batch number 250 of 600\n",
            "\tCurrently on batch number 300 of 600\n",
            "\tCurrently on batch number 350 of 600\n",
            "\tCurrently on batch number 400 of 600\n",
            "\tCurrently on batch number 450 of 600\n",
            "\tCurrently on batch number 500 of 600\n",
            "\tCurrently on batch number 550 of 600\n",
            "\tCurrently on batch number 600 of 600\n",
            "Currently on Epoch 3\n",
            "\tCurrently on batch number 50 of 600\n",
            "\tCurrently on batch number 100 of 600\n",
            "\tCurrently on batch number 150 of 600\n",
            "\tCurrently on batch number 200 of 600\n",
            "\tCurrently on batch number 250 of 600\n",
            "\tCurrently on batch number 300 of 600\n",
            "\tCurrently on batch number 350 of 600\n",
            "\tCurrently on batch number 400 of 600\n",
            "\tCurrently on batch number 450 of 600\n",
            "\tCurrently on batch number 500 of 600\n",
            "\tCurrently on batch number 550 of 600\n",
            "\tCurrently on batch number 600 of 600\n",
            "Currently on Epoch 4\n",
            "\tCurrently on batch number 50 of 600\n",
            "\tCurrently on batch number 100 of 600\n",
            "\tCurrently on batch number 150 of 600\n",
            "\tCurrently on batch number 200 of 600\n",
            "\tCurrently on batch number 250 of 600\n",
            "\tCurrently on batch number 300 of 600\n",
            "\tCurrently on batch number 350 of 600\n",
            "\tCurrently on batch number 400 of 600\n",
            "\tCurrently on batch number 450 of 600\n",
            "\tCurrently on batch number 500 of 600\n",
            "\tCurrently on batch number 550 of 600\n",
            "\tCurrently on batch number 600 of 600\n",
            "Currently on Epoch 5\n",
            "\tCurrently on batch number 50 of 600\n",
            "\tCurrently on batch number 100 of 600\n",
            "\tCurrently on batch number 150 of 600\n",
            "\tCurrently on batch number 200 of 600\n",
            "\tCurrently on batch number 250 of 600\n",
            "\tCurrently on batch number 300 of 600\n",
            "\tCurrently on batch number 350 of 600\n",
            "\tCurrently on batch number 400 of 600\n",
            "\tCurrently on batch number 450 of 600\n",
            "\tCurrently on batch number 500 of 600\n",
            "\tCurrently on batch number 550 of 600\n",
            "\tCurrently on batch number 600 of 600\n",
            "Training is complete\n"
          ]
        }
      ],
      "source": [
        "with tf.device('/gpu:0'):\n",
        " for epoch in range(epochs):\n",
        "    print(f\"Currently on Epoch {epoch+1}\")\n",
        "    \n",
        "    \n",
        "    for i in range(X_train.shape[0]//batch_size):\n",
        "        \n",
        "        if (i+1)%50 == 0:\n",
        "            print(f\"\\tCurrently on batch number {i+1} of {X_train.shape[0]//batch_size}\")\n",
        "            \n",
        "        noise=np.random.normal(size=[batch_size,noise_shape])\n",
        "       \n",
        "        gen_image = generator.predict_on_batch(noise)\n",
        "        \n",
        "        train_dataset = X_train[i*batch_size:(i+1)*batch_size]\n",
        "       \n",
        "        #training discriminator on real images\n",
        "        train_label=np.ones(shape=(batch_size,1))\n",
        "        discriminator.trainable = True\n",
        "        d_loss_real=discriminator.train_on_batch(train_dataset,train_label)\n",
        "        \n",
        "        #training discriminator on fake images\n",
        "        train_label=np.zeros(shape=(batch_size,1))\n",
        "        d_loss_fake=discriminator.train_on_batch(gen_image,train_label)\n",
        "        \n",
        "        \n",
        "        #training generator \n",
        "        noise=np.random.normal(size=[batch_size,noise_shape])\n",
        "        train_label=np.ones(shape=(batch_size,1))\n",
        "        discriminator.trainable = False\n",
        "        \n",
        "        d_g_loss_batch =GAN.train_on_batch(noise, train_label)\n",
        "        \n",
        "        \n",
        "        \n",
        "       \n",
        "    #plotting generated images at the start and then after every 10 epoch\n",
        "    if epoch % 10 == 0:\n",
        "        samples = 10\n",
        "        x_fake = generator.predict(np.random.normal(loc=0, scale=1, size=(samples, 100)))\n",
        "\n",
        "        for k in range(samples):\n",
        "            plt.subplot(2, 5, k+1)\n",
        "            plt.imshow(x_fake[k].reshape(28, 28), cmap='gray')\n",
        "            plt.xticks([])\n",
        "            plt.yticks([])\n",
        "\n",
        "        plt.tight_layout()\n",
        "        plt.show()\n",
        "\n",
        "        \n",
        "        \n",
        "print('Training is complete')"
      ]
    },
    {
      "cell_type": "markdown",
      "metadata": {
        "id": "gKoszp5Rb7_k"
      },
      "source": [
        "Generate random noise and predict from generator:"
      ]
    },
    {
      "cell_type": "code",
      "execution_count": null,
      "metadata": {
        "id": "frVhqGEDb__4"
      },
      "outputs": [
        {
          "name": "stdout",
          "output_type": "stream",
          "text": [
            "1/1 [==============================] - 0s 16ms/step\n"
          ]
        }
      ],
      "source": [
        "noise=np.random.normal(size=[10,noise_shape])\n",
        "\n",
        "gen_image = generator.predict(noise)"
      ]
    },
    {
      "cell_type": "markdown",
      "metadata": {
        "id": "sbvxNR8McEgG"
      },
      "source": [
        "Output in the form of Actual Images and Generated Images"
      ]
    },
    {
      "cell_type": "code",
      "execution_count": null,
      "metadata": {
        "id": "3Liq77c8cLsc"
      },
      "outputs": [
        {
          "data": {
            "image/png": "[encoded data removed]",
            "text/plain": [
              "<Figure size 640x480 with 10 Axes>"
            ]
          },
          "metadata": {},
          "output_type": "display_data"
        }
      ],
      "source": [
        "fig,axe=plt.subplots(2,5)\n",
        "fig.suptitle('Generated Images from Noise using GANs')\n",
        "idx=0\n",
        "for i in range(2):\n",
        "    for j in range(5):\n",
        "         axe[i,j].imshow(gen_image[idx].reshape(28,28),cmap='gray')\n",
        "         idx+=1"
      ]
    },
    {
      "cell_type": "markdown",
      "metadata": {
        "id": "3KgPp2uWM7lW"
      },
      "source": [
        "# **Inference**\n",
        "\n",
        "Write your inference here"
      ]
    },
    {
      "cell_type": "markdown",
      "metadata": {},
      "source": [
        "# We have used Transpose Convolutional  Neural Networks in order to generate fake images from the noise given. After that the Discriminator uses Convolutional Neural Networks to differentiate between the two images (fake vs real). Since, these predictions are stronger due to convolutional neural networks, which help in minor pattern recognition instead of row wise pattern recognition in vanilla GAN, the generator also pushes to generate a more stronger fake image."
      ]
    },
    {
      "cell_type": "markdown",
      "metadata": {
        "id": "NJYDhF7iM7lW"
      },
      "source": [
        "# **References**\n",
        "\n",
        "1. https://arxiv.org/abs/1406.2661 - GANs paper in 2014 by Ian J. Goodfellow and others.\n",
        "2. https://arxiv.org/abs/1511.06434 - DCGANs in 2016\n",
        "3. https://arxiv.org/pdf/1611.02163.pdf - 2017 ICLR paper \n",
        "4. https://towardsdatascience.com/understanding-generative-adversarial-networks-gans-cd6e4651a29"
      ]
    }
  ],
  "metadata": {
    "colab": {
      "provenance": [
        {
          "file_id": "1ZfAsbq279bFe2Ih9078o7OOGZ9fupuwj",
          "timestamp": 1671688399554
        }
      ]
    },
    "kernelspec": {
      "display_name": "Python 3 (ipykernel)",
      "language": "python",
      "name": "python3"
    },
    "language_info": {
      "codemirror_mode": {
        "name": "ipython",
        "version": 3
      },
      "file_extension": ".py",
      "mimetype": "text/x-python",
      "name": "python",
      "nbconvert_exporter": "python",
      "pygments_lexer": "ipython3",
      "version": "3.10.12"
    },
    "nteract": {
      "version": "nteract-front-end@1.0.0"
    }
  },
  "nbformat": 4,
  "nbformat_minor": 1
}
